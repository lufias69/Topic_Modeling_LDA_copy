{
 "cells": [
  {
   "cell_type": "code",
   "execution_count": 1,
   "metadata": {},
   "outputs": [],
   "source": [
    "from helper import *\n",
    "import warnings\n",
    "warnings.filterwarnings('ignore')\n",
    "\n",
    "import pandas as pd #a library to make the data more structured"
   ]
  },
  {
   "cell_type": "code",
   "execution_count": 60,
   "metadata": {},
   "outputs": [],
   "source": [
    "text = 'kami ingin pergi ke rumah sakit as sunnah ke rumah sakit as sunnah rumah sakit as sunnah rumah sakit as sunnah rumah sakit as sunnah'\n",
    "kata = ['rumah sakit', \"ingin pergi\"]\n",
    "text_list =  [i.split() for i in text]"
   ]
  },
  {
   "cell_type": "code",
   "execution_count": 54,
   "metadata": {},
   "outputs": [
    {
     "data": {
      "text/plain": [
       "[['k'],\n",
       " ['a'],\n",
       " ['m'],\n",
       " ['i'],\n",
       " [],\n",
       " ['i'],\n",
       " ['n'],\n",
       " ['g'],\n",
       " ['i'],\n",
       " ['n'],\n",
       " [],\n",
       " ['p'],\n",
       " ['e'],\n",
       " ['r'],\n",
       " ['g'],\n",
       " ['i'],\n",
       " [],\n",
       " ['k'],\n",
       " ['e'],\n",
       " [],\n",
       " ['r'],\n",
       " ['u'],\n",
       " ['m'],\n",
       " ['a'],\n",
       " ['h'],\n",
       " [],\n",
       " ['s'],\n",
       " ['a'],\n",
       " ['k'],\n",
       " ['i'],\n",
       " ['t'],\n",
       " [],\n",
       " ['a'],\n",
       " ['s'],\n",
       " [],\n",
       " ['s'],\n",
       " ['u'],\n",
       " ['n'],\n",
       " ['n'],\n",
       " ['a'],\n",
       " ['h']]"
      ]
     },
     "execution_count": 54,
     "metadata": {},
     "output_type": "execute_result"
    }
   ],
   "source": [
    "#Create Bigram & Trigram Models \n",
    "from gensim.models import Phrases\n",
    "# Add bigrams and trigrams to docs,minimum count 10 means only that appear 10 times or more.\n",
    "bigram = Phrases(kata, min_count=10)\n",
    "trigram = Phrases(bigram[kata])\n",
    "\n",
    "for idx in range(len(text_list)):\n",
    "    for token in bigram[text_list[idx]]:\n",
    "        #print(token)\n",
    "        if '_' in token:\n",
    "            # Token is a bigram, add to document.\n",
    "            text_list[idx].append(token)\n",
    "    for token in trigram[text_list[idx]]:\n",
    "        #print(token)\n",
    "        if '_' in token:\n",
    "            # Token is a bigram, add to document.\n",
    "            text_list[idx].append(token)\n",
    "text_list"
   ]
  },
  {
   "cell_type": "code",
   "execution_count": 50,
   "metadata": {},
   "outputs": [
    {
     "data": {
      "text/plain": [
       "[['k'],\n",
       " ['a'],\n",
       " ['m'],\n",
       " ['i'],\n",
       " [],\n",
       " ['i'],\n",
       " ['n'],\n",
       " ['g'],\n",
       " ['i'],\n",
       " ['n'],\n",
       " [],\n",
       " ['p'],\n",
       " ['e'],\n",
       " ['r'],\n",
       " ['g'],\n",
       " ['i'],\n",
       " [],\n",
       " ['k'],\n",
       " ['e'],\n",
       " [],\n",
       " ['r'],\n",
       " ['u'],\n",
       " ['m'],\n",
       " ['a'],\n",
       " ['h'],\n",
       " [],\n",
       " ['s'],\n",
       " ['a'],\n",
       " ['k'],\n",
       " ['i'],\n",
       " ['t'],\n",
       " [],\n",
       " ['a'],\n",
       " ['s'],\n",
       " [],\n",
       " ['s'],\n",
       " ['u'],\n",
       " ['n'],\n",
       " ['n'],\n",
       " ['a'],\n",
       " ['h']]"
      ]
     },
     "execution_count": 50,
     "metadata": {},
     "output_type": "execute_result"
    }
   ],
   "source": []
  },
  {
   "cell_type": "code",
   "execution_count": null,
   "metadata": {},
   "outputs": [],
   "source": []
  },
  {
   "cell_type": "code",
   "execution_count": 62,
   "metadata": {},
   "outputs": [
    {
     "name": "stdout",
     "output_type": "stream",
     "text": [
      "[nltk_data] Downloading package punkt to\n",
      "[nltk_data]     C:\\Users\\x3y\\AppData\\Roaming\\nltk_data...\n",
      "[nltk_data]   Package punkt is already up-to-date!\n"
     ]
    }
   ],
   "source": [
    "import nltk\n",
    "nltk.download('punkt')\n",
    "from nltk import word_tokenize\n",
    "from nltk.util import ngrams\n",
    "from collections import Counter\n",
    "\n",
    "#text = \"I need to write a program in NLTK that breaks a corpus (a large collection of \\txt files) into unigrams, bigrams, trigrams, fourgrams and fivegrams.\\ I need to write a program in NLTK that breaks a corpus\"\n",
    "token = nltk.word_tokenize(text)\n",
    "bigrams = ngrams(token,2)\n",
    "trigrams = ngrams(token,3)\n",
    "fourgrams = ngrams(token,4)\n",
    "fivegrams = ngrams(token,5)\n",
    "\n",
    "#print Counter(bigrams)"
   ]
  },
  {
   "cell_type": "code",
   "execution_count": 64,
   "metadata": {},
   "outputs": [
    {
     "name": "stdout",
     "output_type": "stream",
     "text": [
      "Counter({('rumah', 'sakit', 'as', 'sunnah'): 5, ('sakit', 'as', 'sunnah', 'rumah'): 3, ('as', 'sunnah', 'rumah', 'sakit'): 3, ('sunnah', 'rumah', 'sakit', 'as'): 3, ('ke', 'rumah', 'sakit', 'as'): 2, ('kami', 'ingin', 'pergi', 'ke'): 1, ('ingin', 'pergi', 'ke', 'rumah'): 1, ('pergi', 'ke', 'rumah', 'sakit'): 1, ('sakit', 'as', 'sunnah', 'ke'): 1, ('as', 'sunnah', 'ke', 'rumah'): 1, ('sunnah', 'ke', 'rumah', 'sakit'): 1})\n"
     ]
    }
   ],
   "source": [
    "print (Counter(fourgrams))"
   ]
  }
 ],
 "metadata": {
  "kernelspec": {
   "display_name": "Python 3",
   "language": "python",
   "name": "python3"
  },
  "language_info": {
   "codemirror_mode": {
    "name": "ipython",
    "version": 3
   },
   "file_extension": ".py",
   "mimetype": "text/x-python",
   "name": "python",
   "nbconvert_exporter": "python",
   "pygments_lexer": "ipython3",
   "version": "3.6.5"
  }
 },
 "nbformat": 4,
 "nbformat_minor": 2
}
